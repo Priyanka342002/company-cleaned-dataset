{
 "cells": [
  {
   "cell_type": "code",
   "execution_count": 25,
   "id": "7048d46c-4e06-4818-890f-48811ba91666",
   "metadata": {},
   "outputs": [
    {
     "data": {
      "text/html": [
       "<div>\n",
       "<style scoped>\n",
       "    .dataframe tbody tr th:only-of-type {\n",
       "        vertical-align: middle;\n",
       "    }\n",
       "\n",
       "    .dataframe tbody tr th {\n",
       "        vertical-align: top;\n",
       "    }\n",
       "\n",
       "    .dataframe thead th {\n",
       "        text-align: right;\n",
       "    }\n",
       "</style>\n",
       "<table border=\"1\" class=\"dataframe\">\n",
       "  <thead>\n",
       "    <tr style=\"text-align: right;\">\n",
       "      <th></th>\n",
       "      <th>ID</th>\n",
       "      <th>Name</th>\n",
       "      <th>Age</th>\n",
       "      <th>Salary</th>\n",
       "      <th>Department</th>\n",
       "      <th>Experience</th>\n",
       "      <th>City</th>\n",
       "      <th>LeaveDays</th>\n",
       "      <th>PerformanceScore</th>\n",
       "      <th>Bonus</th>\n",
       "    </tr>\n",
       "  </thead>\n",
       "  <tbody>\n",
       "    <tr>\n",
       "      <th>0</th>\n",
       "      <td>1</td>\n",
       "      <td>Anil</td>\n",
       "      <td>56.0</td>\n",
       "      <td>71693.0</td>\n",
       "      <td>Sales</td>\n",
       "      <td>2.0</td>\n",
       "      <td>Hyderabad</td>\n",
       "      <td>15.0</td>\n",
       "      <td>1.0</td>\n",
       "      <td>10752.0</td>\n",
       "    </tr>\n",
       "    <tr>\n",
       "      <th>1</th>\n",
       "      <td>2</td>\n",
       "      <td>Kavya</td>\n",
       "      <td>46.0</td>\n",
       "      <td>75961.0</td>\n",
       "      <td>Sales</td>\n",
       "      <td>16.0</td>\n",
       "      <td>Chennai</td>\n",
       "      <td>6.0</td>\n",
       "      <td>1.0</td>\n",
       "      <td>NaN</td>\n",
       "    </tr>\n",
       "    <tr>\n",
       "      <th>2</th>\n",
       "      <td>3</td>\n",
       "      <td>Deepa</td>\n",
       "      <td>32.0</td>\n",
       "      <td>76133.0</td>\n",
       "      <td>IT</td>\n",
       "      <td>6.0</td>\n",
       "      <td>NaN</td>\n",
       "      <td>8.0</td>\n",
       "      <td>8.0</td>\n",
       "      <td>10848.0</td>\n",
       "    </tr>\n",
       "    <tr>\n",
       "      <th>3</th>\n",
       "      <td>4</td>\n",
       "      <td>Suresh</td>\n",
       "      <td>25.0</td>\n",
       "      <td>81268.0</td>\n",
       "      <td>Marketing</td>\n",
       "      <td>26.0</td>\n",
       "      <td>Bangalore</td>\n",
       "      <td>3.0</td>\n",
       "      <td>3.0</td>\n",
       "      <td>10241.0</td>\n",
       "    </tr>\n",
       "    <tr>\n",
       "      <th>4</th>\n",
       "      <td>5</td>\n",
       "      <td>Anil</td>\n",
       "      <td>38.0</td>\n",
       "      <td>58243.0</td>\n",
       "      <td>NaN</td>\n",
       "      <td>25.0</td>\n",
       "      <td>Delhi</td>\n",
       "      <td>29.0</td>\n",
       "      <td>1.0</td>\n",
       "      <td>1453.0</td>\n",
       "    </tr>\n",
       "    <tr>\n",
       "      <th>...</th>\n",
       "      <td>...</td>\n",
       "      <td>...</td>\n",
       "      <td>...</td>\n",
       "      <td>...</td>\n",
       "      <td>...</td>\n",
       "      <td>...</td>\n",
       "      <td>...</td>\n",
       "      <td>...</td>\n",
       "      <td>...</td>\n",
       "      <td>...</td>\n",
       "    </tr>\n",
       "    <tr>\n",
       "      <th>1195</th>\n",
       "      <td>1196</td>\n",
       "      <td>Kavya</td>\n",
       "      <td>19.0</td>\n",
       "      <td>89184.0</td>\n",
       "      <td>Finance</td>\n",
       "      <td>25.0</td>\n",
       "      <td>Delhi</td>\n",
       "      <td>0.0</td>\n",
       "      <td>5.0</td>\n",
       "      <td>7722.0</td>\n",
       "    </tr>\n",
       "    <tr>\n",
       "      <th>1196</th>\n",
       "      <td>1197</td>\n",
       "      <td>Meena</td>\n",
       "      <td>NaN</td>\n",
       "      <td>67945.0</td>\n",
       "      <td>Finance</td>\n",
       "      <td>29.0</td>\n",
       "      <td>Hyderabad</td>\n",
       "      <td>9.0</td>\n",
       "      <td>4.0</td>\n",
       "      <td>500000.0</td>\n",
       "    </tr>\n",
       "    <tr>\n",
       "      <th>1197</th>\n",
       "      <td>1198</td>\n",
       "      <td>Meena</td>\n",
       "      <td>56.0</td>\n",
       "      <td>33140.0</td>\n",
       "      <td>Marketing</td>\n",
       "      <td>12.0</td>\n",
       "      <td>Chennai</td>\n",
       "      <td>18.0</td>\n",
       "      <td>6.0</td>\n",
       "      <td>5144.0</td>\n",
       "    </tr>\n",
       "    <tr>\n",
       "      <th>1198</th>\n",
       "      <td>1199</td>\n",
       "      <td>Kavya</td>\n",
       "      <td>26.0</td>\n",
       "      <td>34357.0</td>\n",
       "      <td>NaN</td>\n",
       "      <td>12.0</td>\n",
       "      <td>NaN</td>\n",
       "      <td>16.0</td>\n",
       "      <td>4.0</td>\n",
       "      <td>6606.0</td>\n",
       "    </tr>\n",
       "    <tr>\n",
       "      <th>1199</th>\n",
       "      <td>1200</td>\n",
       "      <td>Divya</td>\n",
       "      <td>39.0</td>\n",
       "      <td>88673.0</td>\n",
       "      <td>IT</td>\n",
       "      <td>1.0</td>\n",
       "      <td>Bangalore</td>\n",
       "      <td>11.0</td>\n",
       "      <td>2.0</td>\n",
       "      <td>7766.0</td>\n",
       "    </tr>\n",
       "  </tbody>\n",
       "</table>\n",
       "<p>1200 rows × 10 columns</p>\n",
       "</div>"
      ],
      "text/plain": [
       "        ID    Name   Age   Salary Department  Experience       City  \\\n",
       "0        1    Anil  56.0  71693.0      Sales         2.0  Hyderabad   \n",
       "1        2   Kavya  46.0  75961.0      Sales        16.0    Chennai   \n",
       "2        3   Deepa  32.0  76133.0         IT         6.0        NaN   \n",
       "3        4  Suresh  25.0  81268.0  Marketing        26.0  Bangalore   \n",
       "4        5    Anil  38.0  58243.0        NaN        25.0      Delhi   \n",
       "...    ...     ...   ...      ...        ...         ...        ...   \n",
       "1195  1196   Kavya  19.0  89184.0    Finance        25.0      Delhi   \n",
       "1196  1197   Meena   NaN  67945.0    Finance        29.0  Hyderabad   \n",
       "1197  1198   Meena  56.0  33140.0  Marketing        12.0    Chennai   \n",
       "1198  1199   Kavya  26.0  34357.0        NaN        12.0        NaN   \n",
       "1199  1200   Divya  39.0  88673.0         IT         1.0  Bangalore   \n",
       "\n",
       "      LeaveDays  PerformanceScore     Bonus  \n",
       "0          15.0               1.0   10752.0  \n",
       "1           6.0               1.0       NaN  \n",
       "2           8.0               8.0   10848.0  \n",
       "3           3.0               3.0   10241.0  \n",
       "4          29.0               1.0    1453.0  \n",
       "...         ...               ...       ...  \n",
       "1195        0.0               5.0    7722.0  \n",
       "1196        9.0               4.0  500000.0  \n",
       "1197       18.0               6.0    5144.0  \n",
       "1198       16.0               4.0    6606.0  \n",
       "1199       11.0               2.0    7766.0  \n",
       "\n",
       "[1200 rows x 10 columns]"
      ]
     },
     "execution_count": 25,
     "metadata": {},
     "output_type": "execute_result"
    }
   ],
   "source": [
    "import pandas as pd\n",
    "df = pd.read_csv(\"company_dataset.csv\")\n",
    "df"
   ]
  },
  {
   "cell_type": "code",
   "execution_count": 26,
   "id": "7c92656d-98a4-4d54-af0f-d110577619d5",
   "metadata": {},
   "outputs": [
    {
     "name": "stdout",
     "output_type": "stream",
     "text": [
      "<class 'pandas.core.frame.DataFrame'>\n",
      "RangeIndex: 1200 entries, 0 to 1199\n",
      "Data columns (total 10 columns):\n",
      " #   Column            Non-Null Count  Dtype  \n",
      "---  ------            --------------  -----  \n",
      " 0   ID                1200 non-null   int64  \n",
      " 1   Name              1200 non-null   object \n",
      " 2   Age               1141 non-null   float64\n",
      " 3   Salary            1140 non-null   float64\n",
      " 4   Department        1004 non-null   object \n",
      " 5   Experience        1140 non-null   float64\n",
      " 6   City              943 non-null    object \n",
      " 7   LeaveDays         1200 non-null   float64\n",
      " 8   PerformanceScore  1140 non-null   float64\n",
      " 9   Bonus             1140 non-null   float64\n",
      "dtypes: float64(6), int64(1), object(3)\n",
      "memory usage: 93.9+ KB\n"
     ]
    }
   ],
   "source": [
    "df.info()"
   ]
  },
  {
   "cell_type": "code",
   "execution_count": 27,
   "id": "782bcdc8-7f29-44ab-b3bf-1a61b9d4b1c0",
   "metadata": {},
   "outputs": [
    {
     "data": {
      "text/html": [
       "<div>\n",
       "<style scoped>\n",
       "    .dataframe tbody tr th:only-of-type {\n",
       "        vertical-align: middle;\n",
       "    }\n",
       "\n",
       "    .dataframe tbody tr th {\n",
       "        vertical-align: top;\n",
       "    }\n",
       "\n",
       "    .dataframe thead th {\n",
       "        text-align: right;\n",
       "    }\n",
       "</style>\n",
       "<table border=\"1\" class=\"dataframe\">\n",
       "  <thead>\n",
       "    <tr style=\"text-align: right;\">\n",
       "      <th></th>\n",
       "      <th>ID</th>\n",
       "      <th>Name</th>\n",
       "      <th>Age</th>\n",
       "      <th>Salary</th>\n",
       "      <th>Department</th>\n",
       "      <th>Experience</th>\n",
       "      <th>City</th>\n",
       "      <th>LeaveDays</th>\n",
       "      <th>PerformanceScore</th>\n",
       "      <th>Bonus</th>\n",
       "    </tr>\n",
       "  </thead>\n",
       "  <tbody>\n",
       "    <tr>\n",
       "      <th>0</th>\n",
       "      <td>1</td>\n",
       "      <td>Anil</td>\n",
       "      <td>56.0</td>\n",
       "      <td>71693.0</td>\n",
       "      <td>Sales</td>\n",
       "      <td>2.0</td>\n",
       "      <td>Hyderabad</td>\n",
       "      <td>15.0</td>\n",
       "      <td>1.0</td>\n",
       "      <td>10752.0</td>\n",
       "    </tr>\n",
       "    <tr>\n",
       "      <th>1</th>\n",
       "      <td>2</td>\n",
       "      <td>Kavya</td>\n",
       "      <td>46.0</td>\n",
       "      <td>75961.0</td>\n",
       "      <td>Sales</td>\n",
       "      <td>16.0</td>\n",
       "      <td>Chennai</td>\n",
       "      <td>6.0</td>\n",
       "      <td>1.0</td>\n",
       "      <td>NaN</td>\n",
       "    </tr>\n",
       "    <tr>\n",
       "      <th>2</th>\n",
       "      <td>3</td>\n",
       "      <td>Deepa</td>\n",
       "      <td>32.0</td>\n",
       "      <td>76133.0</td>\n",
       "      <td>IT</td>\n",
       "      <td>6.0</td>\n",
       "      <td>NaN</td>\n",
       "      <td>8.0</td>\n",
       "      <td>8.0</td>\n",
       "      <td>10848.0</td>\n",
       "    </tr>\n",
       "    <tr>\n",
       "      <th>3</th>\n",
       "      <td>4</td>\n",
       "      <td>Suresh</td>\n",
       "      <td>25.0</td>\n",
       "      <td>81268.0</td>\n",
       "      <td>Marketing</td>\n",
       "      <td>26.0</td>\n",
       "      <td>Bangalore</td>\n",
       "      <td>3.0</td>\n",
       "      <td>3.0</td>\n",
       "      <td>10241.0</td>\n",
       "    </tr>\n",
       "    <tr>\n",
       "      <th>4</th>\n",
       "      <td>5</td>\n",
       "      <td>Anil</td>\n",
       "      <td>38.0</td>\n",
       "      <td>58243.0</td>\n",
       "      <td>NaN</td>\n",
       "      <td>25.0</td>\n",
       "      <td>Delhi</td>\n",
       "      <td>29.0</td>\n",
       "      <td>1.0</td>\n",
       "      <td>1453.0</td>\n",
       "    </tr>\n",
       "  </tbody>\n",
       "</table>\n",
       "</div>"
      ],
      "text/plain": [
       "   ID    Name   Age   Salary Department  Experience       City  LeaveDays  \\\n",
       "0   1    Anil  56.0  71693.0      Sales         2.0  Hyderabad       15.0   \n",
       "1   2   Kavya  46.0  75961.0      Sales        16.0    Chennai        6.0   \n",
       "2   3   Deepa  32.0  76133.0         IT         6.0        NaN        8.0   \n",
       "3   4  Suresh  25.0  81268.0  Marketing        26.0  Bangalore        3.0   \n",
       "4   5    Anil  38.0  58243.0        NaN        25.0      Delhi       29.0   \n",
       "\n",
       "   PerformanceScore    Bonus  \n",
       "0               1.0  10752.0  \n",
       "1               1.0      NaN  \n",
       "2               8.0  10848.0  \n",
       "3               3.0  10241.0  \n",
       "4               1.0   1453.0  "
      ]
     },
     "execution_count": 27,
     "metadata": {},
     "output_type": "execute_result"
    }
   ],
   "source": [
    "df.head()"
   ]
  },
  {
   "cell_type": "code",
   "execution_count": 28,
   "id": "e730f2f4-061b-486e-b0c1-0255a56bc019",
   "metadata": {},
   "outputs": [
    {
     "data": {
      "text/html": [
       "<div>\n",
       "<style scoped>\n",
       "    .dataframe tbody tr th:only-of-type {\n",
       "        vertical-align: middle;\n",
       "    }\n",
       "\n",
       "    .dataframe tbody tr th {\n",
       "        vertical-align: top;\n",
       "    }\n",
       "\n",
       "    .dataframe thead th {\n",
       "        text-align: right;\n",
       "    }\n",
       "</style>\n",
       "<table border=\"1\" class=\"dataframe\">\n",
       "  <thead>\n",
       "    <tr style=\"text-align: right;\">\n",
       "      <th></th>\n",
       "      <th>ID</th>\n",
       "      <th>Name</th>\n",
       "      <th>Age</th>\n",
       "      <th>Salary</th>\n",
       "      <th>Department</th>\n",
       "      <th>Experience</th>\n",
       "      <th>City</th>\n",
       "      <th>LeaveDays</th>\n",
       "      <th>PerformanceScore</th>\n",
       "      <th>Bonus</th>\n",
       "    </tr>\n",
       "  </thead>\n",
       "  <tbody>\n",
       "    <tr>\n",
       "      <th>1195</th>\n",
       "      <td>1196</td>\n",
       "      <td>Kavya</td>\n",
       "      <td>19.0</td>\n",
       "      <td>89184.0</td>\n",
       "      <td>Finance</td>\n",
       "      <td>25.0</td>\n",
       "      <td>Delhi</td>\n",
       "      <td>0.0</td>\n",
       "      <td>5.0</td>\n",
       "      <td>7722.0</td>\n",
       "    </tr>\n",
       "    <tr>\n",
       "      <th>1196</th>\n",
       "      <td>1197</td>\n",
       "      <td>Meena</td>\n",
       "      <td>NaN</td>\n",
       "      <td>67945.0</td>\n",
       "      <td>Finance</td>\n",
       "      <td>29.0</td>\n",
       "      <td>Hyderabad</td>\n",
       "      <td>9.0</td>\n",
       "      <td>4.0</td>\n",
       "      <td>500000.0</td>\n",
       "    </tr>\n",
       "    <tr>\n",
       "      <th>1197</th>\n",
       "      <td>1198</td>\n",
       "      <td>Meena</td>\n",
       "      <td>56.0</td>\n",
       "      <td>33140.0</td>\n",
       "      <td>Marketing</td>\n",
       "      <td>12.0</td>\n",
       "      <td>Chennai</td>\n",
       "      <td>18.0</td>\n",
       "      <td>6.0</td>\n",
       "      <td>5144.0</td>\n",
       "    </tr>\n",
       "    <tr>\n",
       "      <th>1198</th>\n",
       "      <td>1199</td>\n",
       "      <td>Kavya</td>\n",
       "      <td>26.0</td>\n",
       "      <td>34357.0</td>\n",
       "      <td>NaN</td>\n",
       "      <td>12.0</td>\n",
       "      <td>NaN</td>\n",
       "      <td>16.0</td>\n",
       "      <td>4.0</td>\n",
       "      <td>6606.0</td>\n",
       "    </tr>\n",
       "    <tr>\n",
       "      <th>1199</th>\n",
       "      <td>1200</td>\n",
       "      <td>Divya</td>\n",
       "      <td>39.0</td>\n",
       "      <td>88673.0</td>\n",
       "      <td>IT</td>\n",
       "      <td>1.0</td>\n",
       "      <td>Bangalore</td>\n",
       "      <td>11.0</td>\n",
       "      <td>2.0</td>\n",
       "      <td>7766.0</td>\n",
       "    </tr>\n",
       "  </tbody>\n",
       "</table>\n",
       "</div>"
      ],
      "text/plain": [
       "        ID   Name   Age   Salary Department  Experience       City  LeaveDays  \\\n",
       "1195  1196  Kavya  19.0  89184.0    Finance        25.0      Delhi        0.0   \n",
       "1196  1197  Meena   NaN  67945.0    Finance        29.0  Hyderabad        9.0   \n",
       "1197  1198  Meena  56.0  33140.0  Marketing        12.0    Chennai       18.0   \n",
       "1198  1199  Kavya  26.0  34357.0        NaN        12.0        NaN       16.0   \n",
       "1199  1200  Divya  39.0  88673.0         IT         1.0  Bangalore       11.0   \n",
       "\n",
       "      PerformanceScore     Bonus  \n",
       "1195               5.0    7722.0  \n",
       "1196               4.0  500000.0  \n",
       "1197               6.0    5144.0  \n",
       "1198               4.0    6606.0  \n",
       "1199               2.0    7766.0  "
      ]
     },
     "execution_count": 28,
     "metadata": {},
     "output_type": "execute_result"
    }
   ],
   "source": [
    "df.tail()"
   ]
  },
  {
   "cell_type": "code",
   "execution_count": 29,
   "id": "fd5b20e3-3565-4fa3-aee5-6b0d1521fda0",
   "metadata": {},
   "outputs": [
    {
     "data": {
      "text/plain": [
       "(1200, 10)"
      ]
     },
     "execution_count": 29,
     "metadata": {},
     "output_type": "execute_result"
    }
   ],
   "source": [
    "df.shape"
   ]
  },
  {
   "cell_type": "code",
   "execution_count": 30,
   "id": "52ea3bf3-aff9-40bd-9f87-455dfb5b657d",
   "metadata": {},
   "outputs": [
    {
     "data": {
      "text/plain": [
       "Index(['ID', 'Name', 'Age', 'Salary', 'Department', 'Experience', 'City',\n",
       "       'LeaveDays', 'PerformanceScore', 'Bonus'],\n",
       "      dtype='object')"
      ]
     },
     "execution_count": 30,
     "metadata": {},
     "output_type": "execute_result"
    }
   ],
   "source": [
    "df.columns"
   ]
  },
  {
   "cell_type": "code",
   "execution_count": 31,
   "id": "1ede332e-d757-497e-858c-d5f722430404",
   "metadata": {},
   "outputs": [
    {
     "data": {
      "text/html": [
       "<div>\n",
       "<style scoped>\n",
       "    .dataframe tbody tr th:only-of-type {\n",
       "        vertical-align: middle;\n",
       "    }\n",
       "\n",
       "    .dataframe tbody tr th {\n",
       "        vertical-align: top;\n",
       "    }\n",
       "\n",
       "    .dataframe thead th {\n",
       "        text-align: right;\n",
       "    }\n",
       "</style>\n",
       "<table border=\"1\" class=\"dataframe\">\n",
       "  <thead>\n",
       "    <tr style=\"text-align: right;\">\n",
       "      <th></th>\n",
       "      <th>ID</th>\n",
       "      <th>Age</th>\n",
       "      <th>Salary</th>\n",
       "      <th>Experience</th>\n",
       "      <th>LeaveDays</th>\n",
       "      <th>PerformanceScore</th>\n",
       "      <th>Bonus</th>\n",
       "    </tr>\n",
       "  </thead>\n",
       "  <tbody>\n",
       "    <tr>\n",
       "      <th>count</th>\n",
       "      <td>1200.000000</td>\n",
       "      <td>1141.000000</td>\n",
       "      <td>1.140000e+03</td>\n",
       "      <td>1140.00000</td>\n",
       "      <td>1200.000000</td>\n",
       "      <td>1140.000000</td>\n",
       "      <td>1140.000000</td>\n",
       "    </tr>\n",
       "    <tr>\n",
       "      <th>mean</th>\n",
       "      <td>600.500000</td>\n",
       "      <td>39.192813</td>\n",
       "      <td>6.179222e+04</td>\n",
       "      <td>15.45614</td>\n",
       "      <td>15.952500</td>\n",
       "      <td>5.121053</td>\n",
       "      <td>13254.413158</td>\n",
       "    </tr>\n",
       "    <tr>\n",
       "      <th>std</th>\n",
       "      <td>346.554469</td>\n",
       "      <td>15.329354</td>\n",
       "      <td>8.990853e+04</td>\n",
       "      <td>10.19084</td>\n",
       "      <td>15.933983</td>\n",
       "      <td>4.505513</td>\n",
       "      <td>47608.159313</td>\n",
       "    </tr>\n",
       "    <tr>\n",
       "      <th>min</th>\n",
       "      <td>1.000000</td>\n",
       "      <td>-10.000000</td>\n",
       "      <td>-5.000000e+03</td>\n",
       "      <td>-5.00000</td>\n",
       "      <td>-10.000000</td>\n",
       "      <td>-10.000000</td>\n",
       "      <td>-2000.000000</td>\n",
       "    </tr>\n",
       "    <tr>\n",
       "      <th>25%</th>\n",
       "      <td>300.750000</td>\n",
       "      <td>28.000000</td>\n",
       "      <td>3.915900e+04</td>\n",
       "      <td>8.00000</td>\n",
       "      <td>8.000000</td>\n",
       "      <td>3.000000</td>\n",
       "      <td>5789.500000</td>\n",
       "    </tr>\n",
       "    <tr>\n",
       "      <th>50%</th>\n",
       "      <td>600.500000</td>\n",
       "      <td>40.000000</td>\n",
       "      <td>5.455750e+04</td>\n",
       "      <td>15.50000</td>\n",
       "      <td>15.500000</td>\n",
       "      <td>5.000000</td>\n",
       "      <td>10717.500000</td>\n",
       "    </tr>\n",
       "    <tr>\n",
       "      <th>75%</th>\n",
       "      <td>900.250000</td>\n",
       "      <td>50.000000</td>\n",
       "      <td>7.213775e+04</td>\n",
       "      <td>23.00000</td>\n",
       "      <td>22.000000</td>\n",
       "      <td>7.000000</td>\n",
       "      <td>15245.500000</td>\n",
       "    </tr>\n",
       "    <tr>\n",
       "      <th>max</th>\n",
       "      <td>1200.000000</td>\n",
       "      <td>200.000000</td>\n",
       "      <td>2.000000e+06</td>\n",
       "      <td>100.00000</td>\n",
       "      <td>300.000000</td>\n",
       "      <td>100.000000</td>\n",
       "      <td>1000000.000000</td>\n",
       "    </tr>\n",
       "  </tbody>\n",
       "</table>\n",
       "</div>"
      ],
      "text/plain": [
       "                ID          Age        Salary  Experience    LeaveDays  \\\n",
       "count  1200.000000  1141.000000  1.140000e+03  1140.00000  1200.000000   \n",
       "mean    600.500000    39.192813  6.179222e+04    15.45614    15.952500   \n",
       "std     346.554469    15.329354  8.990853e+04    10.19084    15.933983   \n",
       "min       1.000000   -10.000000 -5.000000e+03    -5.00000   -10.000000   \n",
       "25%     300.750000    28.000000  3.915900e+04     8.00000     8.000000   \n",
       "50%     600.500000    40.000000  5.455750e+04    15.50000    15.500000   \n",
       "75%     900.250000    50.000000  7.213775e+04    23.00000    22.000000   \n",
       "max    1200.000000   200.000000  2.000000e+06   100.00000   300.000000   \n",
       "\n",
       "       PerformanceScore           Bonus  \n",
       "count       1140.000000     1140.000000  \n",
       "mean           5.121053    13254.413158  \n",
       "std            4.505513    47608.159313  \n",
       "min          -10.000000    -2000.000000  \n",
       "25%            3.000000     5789.500000  \n",
       "50%            5.000000    10717.500000  \n",
       "75%            7.000000    15245.500000  \n",
       "max          100.000000  1000000.000000  "
      ]
     },
     "execution_count": 31,
     "metadata": {},
     "output_type": "execute_result"
    }
   ],
   "source": [
    "df.describe()"
   ]
  },
  {
   "cell_type": "code",
   "execution_count": 32,
   "id": "1568a954-72a4-4554-ae95-3c5d68a9d79b",
   "metadata": {},
   "outputs": [
    {
     "data": {
      "text/plain": [
       "0       71693.0\n",
       "1       75961.0\n",
       "2       76133.0\n",
       "3       81268.0\n",
       "4       58243.0\n",
       "         ...   \n",
       "1195    89184.0\n",
       "1196    67945.0\n",
       "1197    33140.0\n",
       "1198    34357.0\n",
       "1199    88673.0\n",
       "Name: Salary, Length: 1200, dtype: float64"
      ]
     },
     "execution_count": 32,
     "metadata": {},
     "output_type": "execute_result"
    }
   ],
   "source": [
    "df[\"Salary\"]"
   ]
  },
  {
   "cell_type": "code",
   "execution_count": 33,
   "id": "397afe68-9235-4fca-896a-4402d02795af",
   "metadata": {},
   "outputs": [
    {
     "data": {
      "text/html": [
       "<div>\n",
       "<style scoped>\n",
       "    .dataframe tbody tr th:only-of-type {\n",
       "        vertical-align: middle;\n",
       "    }\n",
       "\n",
       "    .dataframe tbody tr th {\n",
       "        vertical-align: top;\n",
       "    }\n",
       "\n",
       "    .dataframe thead th {\n",
       "        text-align: right;\n",
       "    }\n",
       "</style>\n",
       "<table border=\"1\" class=\"dataframe\">\n",
       "  <thead>\n",
       "    <tr style=\"text-align: right;\">\n",
       "      <th></th>\n",
       "      <th>Name</th>\n",
       "      <th>Salary</th>\n",
       "    </tr>\n",
       "  </thead>\n",
       "  <tbody>\n",
       "    <tr>\n",
       "      <th>0</th>\n",
       "      <td>Anil</td>\n",
       "      <td>71693.0</td>\n",
       "    </tr>\n",
       "    <tr>\n",
       "      <th>1</th>\n",
       "      <td>Kavya</td>\n",
       "      <td>75961.0</td>\n",
       "    </tr>\n",
       "    <tr>\n",
       "      <th>2</th>\n",
       "      <td>Deepa</td>\n",
       "      <td>76133.0</td>\n",
       "    </tr>\n",
       "    <tr>\n",
       "      <th>3</th>\n",
       "      <td>Suresh</td>\n",
       "      <td>81268.0</td>\n",
       "    </tr>\n",
       "    <tr>\n",
       "      <th>4</th>\n",
       "      <td>Anil</td>\n",
       "      <td>58243.0</td>\n",
       "    </tr>\n",
       "    <tr>\n",
       "      <th>...</th>\n",
       "      <td>...</td>\n",
       "      <td>...</td>\n",
       "    </tr>\n",
       "    <tr>\n",
       "      <th>1195</th>\n",
       "      <td>Kavya</td>\n",
       "      <td>89184.0</td>\n",
       "    </tr>\n",
       "    <tr>\n",
       "      <th>1196</th>\n",
       "      <td>Meena</td>\n",
       "      <td>67945.0</td>\n",
       "    </tr>\n",
       "    <tr>\n",
       "      <th>1197</th>\n",
       "      <td>Meena</td>\n",
       "      <td>33140.0</td>\n",
       "    </tr>\n",
       "    <tr>\n",
       "      <th>1198</th>\n",
       "      <td>Kavya</td>\n",
       "      <td>34357.0</td>\n",
       "    </tr>\n",
       "    <tr>\n",
       "      <th>1199</th>\n",
       "      <td>Divya</td>\n",
       "      <td>88673.0</td>\n",
       "    </tr>\n",
       "  </tbody>\n",
       "</table>\n",
       "<p>1200 rows × 2 columns</p>\n",
       "</div>"
      ],
      "text/plain": [
       "        Name   Salary\n",
       "0       Anil  71693.0\n",
       "1      Kavya  75961.0\n",
       "2      Deepa  76133.0\n",
       "3     Suresh  81268.0\n",
       "4       Anil  58243.0\n",
       "...      ...      ...\n",
       "1195   Kavya  89184.0\n",
       "1196   Meena  67945.0\n",
       "1197   Meena  33140.0\n",
       "1198   Kavya  34357.0\n",
       "1199   Divya  88673.0\n",
       "\n",
       "[1200 rows x 2 columns]"
      ]
     },
     "execution_count": 33,
     "metadata": {},
     "output_type": "execute_result"
    }
   ],
   "source": [
    "df[[\"Name\",\"Salary\"]]"
   ]
  },
  {
   "cell_type": "code",
   "execution_count": 34,
   "id": "91db7377-1cf9-4d5b-b484-c4b4f77e4ec0",
   "metadata": {},
   "outputs": [
    {
     "data": {
      "text/html": [
       "<div>\n",
       "<style scoped>\n",
       "    .dataframe tbody tr th:only-of-type {\n",
       "        vertical-align: middle;\n",
       "    }\n",
       "\n",
       "    .dataframe tbody tr th {\n",
       "        vertical-align: top;\n",
       "    }\n",
       "\n",
       "    .dataframe thead th {\n",
       "        text-align: right;\n",
       "    }\n",
       "</style>\n",
       "<table border=\"1\" class=\"dataframe\">\n",
       "  <thead>\n",
       "    <tr style=\"text-align: right;\">\n",
       "      <th></th>\n",
       "      <th>ID</th>\n",
       "      <th>Name</th>\n",
       "      <th>Age</th>\n",
       "      <th>Salary</th>\n",
       "      <th>Department</th>\n",
       "      <th>Experience</th>\n",
       "      <th>City</th>\n",
       "      <th>LeaveDays</th>\n",
       "      <th>PerformanceScore</th>\n",
       "      <th>Bonus</th>\n",
       "    </tr>\n",
       "  </thead>\n",
       "  <tbody>\n",
       "    <tr>\n",
       "      <th>1</th>\n",
       "      <td>2</td>\n",
       "      <td>Kavya</td>\n",
       "      <td>46.0</td>\n",
       "      <td>75961.0</td>\n",
       "      <td>Sales</td>\n",
       "      <td>16.0</td>\n",
       "      <td>Chennai</td>\n",
       "      <td>6.0</td>\n",
       "      <td>1.0</td>\n",
       "      <td>NaN</td>\n",
       "    </tr>\n",
       "    <tr>\n",
       "      <th>18</th>\n",
       "      <td>19</td>\n",
       "      <td>Kavya</td>\n",
       "      <td>47.0</td>\n",
       "      <td>66828.0</td>\n",
       "      <td>Finance</td>\n",
       "      <td>0.0</td>\n",
       "      <td>NaN</td>\n",
       "      <td>0.0</td>\n",
       "      <td>9.0</td>\n",
       "      <td>17230.0</td>\n",
       "    </tr>\n",
       "    <tr>\n",
       "      <th>43</th>\n",
       "      <td>44</td>\n",
       "      <td>Kavya</td>\n",
       "      <td>19.0</td>\n",
       "      <td>51987.0</td>\n",
       "      <td>HR</td>\n",
       "      <td>23.0</td>\n",
       "      <td>NaN</td>\n",
       "      <td>29.0</td>\n",
       "      <td>7.0</td>\n",
       "      <td>NaN</td>\n",
       "    </tr>\n",
       "    <tr>\n",
       "      <th>55</th>\n",
       "      <td>56</td>\n",
       "      <td>Kavya</td>\n",
       "      <td>23.0</td>\n",
       "      <td>57904.0</td>\n",
       "      <td>HR</td>\n",
       "      <td>22.0</td>\n",
       "      <td>Bangalore</td>\n",
       "      <td>20.0</td>\n",
       "      <td>2.0</td>\n",
       "      <td>16567.0</td>\n",
       "    </tr>\n",
       "    <tr>\n",
       "      <th>66</th>\n",
       "      <td>67</td>\n",
       "      <td>Kavya</td>\n",
       "      <td>32.0</td>\n",
       "      <td>43051.0</td>\n",
       "      <td>Finance</td>\n",
       "      <td>14.0</td>\n",
       "      <td>NaN</td>\n",
       "      <td>10.0</td>\n",
       "      <td>3.0</td>\n",
       "      <td>16638.0</td>\n",
       "    </tr>\n",
       "    <tr>\n",
       "      <th>...</th>\n",
       "      <td>...</td>\n",
       "      <td>...</td>\n",
       "      <td>...</td>\n",
       "      <td>...</td>\n",
       "      <td>...</td>\n",
       "      <td>...</td>\n",
       "      <td>...</td>\n",
       "      <td>...</td>\n",
       "      <td>...</td>\n",
       "      <td>...</td>\n",
       "    </tr>\n",
       "    <tr>\n",
       "      <th>1171</th>\n",
       "      <td>1172</td>\n",
       "      <td>Kavya</td>\n",
       "      <td>19.0</td>\n",
       "      <td>38322.0</td>\n",
       "      <td>Finance</td>\n",
       "      <td>17.0</td>\n",
       "      <td>Delhi</td>\n",
       "      <td>10.0</td>\n",
       "      <td>5.0</td>\n",
       "      <td>18994.0</td>\n",
       "    </tr>\n",
       "    <tr>\n",
       "      <th>1174</th>\n",
       "      <td>1175</td>\n",
       "      <td>Kavya</td>\n",
       "      <td>29.0</td>\n",
       "      <td>49055.0</td>\n",
       "      <td>NaN</td>\n",
       "      <td>28.0</td>\n",
       "      <td>Bangalore</td>\n",
       "      <td>12.0</td>\n",
       "      <td>5.0</td>\n",
       "      <td>10528.0</td>\n",
       "    </tr>\n",
       "    <tr>\n",
       "      <th>1192</th>\n",
       "      <td>1193</td>\n",
       "      <td>Kavya</td>\n",
       "      <td>31.0</td>\n",
       "      <td>65232.0</td>\n",
       "      <td>Marketing</td>\n",
       "      <td>2.0</td>\n",
       "      <td>Mumbai</td>\n",
       "      <td>20.0</td>\n",
       "      <td>5.0</td>\n",
       "      <td>14603.0</td>\n",
       "    </tr>\n",
       "    <tr>\n",
       "      <th>1195</th>\n",
       "      <td>1196</td>\n",
       "      <td>Kavya</td>\n",
       "      <td>19.0</td>\n",
       "      <td>89184.0</td>\n",
       "      <td>Finance</td>\n",
       "      <td>25.0</td>\n",
       "      <td>Delhi</td>\n",
       "      <td>0.0</td>\n",
       "      <td>5.0</td>\n",
       "      <td>7722.0</td>\n",
       "    </tr>\n",
       "    <tr>\n",
       "      <th>1198</th>\n",
       "      <td>1199</td>\n",
       "      <td>Kavya</td>\n",
       "      <td>26.0</td>\n",
       "      <td>34357.0</td>\n",
       "      <td>NaN</td>\n",
       "      <td>12.0</td>\n",
       "      <td>NaN</td>\n",
       "      <td>16.0</td>\n",
       "      <td>4.0</td>\n",
       "      <td>6606.0</td>\n",
       "    </tr>\n",
       "  </tbody>\n",
       "</table>\n",
       "<p>90 rows × 10 columns</p>\n",
       "</div>"
      ],
      "text/plain": [
       "        ID   Name   Age   Salary Department  Experience       City  LeaveDays  \\\n",
       "1        2  Kavya  46.0  75961.0      Sales        16.0    Chennai        6.0   \n",
       "18      19  Kavya  47.0  66828.0    Finance         0.0        NaN        0.0   \n",
       "43      44  Kavya  19.0  51987.0         HR        23.0        NaN       29.0   \n",
       "55      56  Kavya  23.0  57904.0         HR        22.0  Bangalore       20.0   \n",
       "66      67  Kavya  32.0  43051.0    Finance        14.0        NaN       10.0   \n",
       "...    ...    ...   ...      ...        ...         ...        ...        ...   \n",
       "1171  1172  Kavya  19.0  38322.0    Finance        17.0      Delhi       10.0   \n",
       "1174  1175  Kavya  29.0  49055.0        NaN        28.0  Bangalore       12.0   \n",
       "1192  1193  Kavya  31.0  65232.0  Marketing         2.0     Mumbai       20.0   \n",
       "1195  1196  Kavya  19.0  89184.0    Finance        25.0      Delhi        0.0   \n",
       "1198  1199  Kavya  26.0  34357.0        NaN        12.0        NaN       16.0   \n",
       "\n",
       "      PerformanceScore    Bonus  \n",
       "1                  1.0      NaN  \n",
       "18                 9.0  17230.0  \n",
       "43                 7.0      NaN  \n",
       "55                 2.0  16567.0  \n",
       "66                 3.0  16638.0  \n",
       "...                ...      ...  \n",
       "1171               5.0  18994.0  \n",
       "1174               5.0  10528.0  \n",
       "1192               5.0  14603.0  \n",
       "1195               5.0   7722.0  \n",
       "1198               4.0   6606.0  \n",
       "\n",
       "[90 rows x 10 columns]"
      ]
     },
     "execution_count": 34,
     "metadata": {},
     "output_type": "execute_result"
    }
   ],
   "source": [
    "df.loc[df[\"Name\"]== \"Kavya\"]"
   ]
  },
  {
   "cell_type": "code",
   "execution_count": 35,
   "id": "c4023063-62b8-4630-bc5f-1e4cbb8a43ed",
   "metadata": {},
   "outputs": [
    {
     "data": {
      "text/plain": [
       "ID                     1166\n",
       "Name                  Kavya\n",
       "Age                    19.0\n",
       "Salary              42669.0\n",
       "Department          Finance\n",
       "Experience              0.0\n",
       "City                  Delhi\n",
       "LeaveDays              17.0\n",
       "PerformanceScore        3.0\n",
       "Bonus                5083.0\n",
       "Name: 1165, dtype: object"
      ]
     },
     "execution_count": 35,
     "metadata": {},
     "output_type": "execute_result"
    }
   ],
   "source": [
    "df.iloc[1165]"
   ]
  },
  {
   "cell_type": "code",
   "execution_count": 36,
   "id": "665b8554-bb4c-4a15-9cd3-031c7750d521",
   "metadata": {},
   "outputs": [
    {
     "name": "stdout",
     "output_type": "stream",
     "text": [
      "2.717564763303589\n",
      "14.2330328963536\n",
      "1.5921560989840338\n",
      "9.585235300157283\n",
      "11.213245531057838\n",
      "17.71101946750476\n"
     ]
    }
   ],
   "source": [
    "columns= ['Age', 'Salary','Experience', 'LeaveDays', 'PerformanceScore', 'Bonus']\n",
    "for col in columns:\n",
    "    print(df[col].skew())"
   ]
  },
  {
   "cell_type": "code",
   "execution_count": 37,
   "id": "e406d347-c374-4912-b1a4-20c4b605fc06",
   "metadata": {},
   "outputs": [
    {
     "data": {
      "text/plain": [
       "ID                    0\n",
       "Name                  0\n",
       "Age                  59\n",
       "Salary               60\n",
       "Department          196\n",
       "Experience           60\n",
       "City                257\n",
       "LeaveDays             0\n",
       "PerformanceScore     60\n",
       "Bonus                60\n",
       "dtype: int64"
      ]
     },
     "execution_count": 37,
     "metadata": {},
     "output_type": "execute_result"
    }
   ],
   "source": [
    "df.isnull().sum()"
   ]
  },
  {
   "cell_type": "code",
   "execution_count": 38,
   "id": "af33654e-de84-4137-b343-affe35da14ba",
   "metadata": {},
   "outputs": [],
   "source": [
    "cat_cols = df.select_dtypes(include = \"object\").columns"
   ]
  },
  {
   "cell_type": "code",
   "execution_count": 39,
   "id": "1ff19ff7-0ac6-45c3-8535-9e42873326aa",
   "metadata": {},
   "outputs": [
    {
     "name": "stdout",
     "output_type": "stream",
     "text": [
      "Index(['Name', 'Department', 'City'], dtype='object')\n"
     ]
    }
   ],
   "source": [
    "print(cat_cols)"
   ]
  },
  {
   "cell_type": "code",
   "execution_count": 40,
   "id": "883bc7c5-7dee-497b-9640-fe6c06a580d5",
   "metadata": {},
   "outputs": [],
   "source": [
    "columns = ['Name', 'Department', 'City']\n",
    "for col in columns:\n",
    "    df[col] = df[col].fillna(df[col].mode()[0])"
   ]
  },
  {
   "cell_type": "code",
   "execution_count": 41,
   "id": "6df459a9-7c32-4100-ac4f-c9c6eea75efb",
   "metadata": {},
   "outputs": [],
   "source": [
    "num_cols = df.select_dtypes(include = ['int','float']).columns"
   ]
  },
  {
   "cell_type": "code",
   "execution_count": 42,
   "id": "fa290e54-fca1-4a30-91f2-20799b7237a6",
   "metadata": {},
   "outputs": [
    {
     "name": "stdout",
     "output_type": "stream",
     "text": [
      "Index(['ID', 'Age', 'Salary', 'Experience', 'LeaveDays', 'PerformanceScore',\n",
      "       'Bonus'],\n",
      "      dtype='object')\n"
     ]
    }
   ],
   "source": [
    "print(num_cols)"
   ]
  },
  {
   "cell_type": "code",
   "execution_count": 43,
   "id": "4cb1e7ff-b9d9-40af-8018-3cc7c2223882",
   "metadata": {},
   "outputs": [],
   "source": [
    "cols = ['Age', 'Salary', 'Experience', 'PerformanceScore','Bonus']\n",
    "for col in cols:\n",
    "    df[col] = df[col].fillna(df[col].median())"
   ]
  },
  {
   "cell_type": "code",
   "execution_count": 44,
   "id": "ae864fbb-1896-4493-bd2c-0a259aea7178",
   "metadata": {},
   "outputs": [],
   "source": [
    "import matplotlib.pyplot as plt\n",
    "import seaborn as sns"
   ]
  },
  {
   "cell_type": "code",
   "execution_count": 45,
   "id": "5e31db5a-ca5f-4741-8312-993cf1bf1242",
   "metadata": {},
   "outputs": [
    {
     "data": {
      "image/png": "[encoded data removed]",
      "text/plain": [
       "<Figure size 640x480 with 1 Axes>"
      ]
     },
     "metadata": {},
     "output_type": "display_data"
    },
    {
     "data": {
      "image/png": "[encoded data removed]",
      "text/plain": [
       "<Figure size 640x480 with 1 Axes>"
      ]
     },
     "metadata": {},
     "output_type": "display_data"
    },
    {
     "data": {
      "image/png": "[encoded data removed]",
      "text/plain": [
       "<Figure size 640x480 with 1 Axes>"
      ]
     },
     "metadata": {},
     "output_type": "display_data"
    },
    {
     "data": {
      "image/png": "[encoded data removed]",
      "text/plain": [
       "<Figure size 640x480 with 1 Axes>"
      ]
     },
     "metadata": {},
     "output_type": "display_data"
    },
    {
     "data": {
      "image/png": "[encoded data removed]",
      "text/plain": [
       "<Figure size 640x480 with 1 Axes>"
      ]
     },
     "metadata": {},
     "output_type": "display_data"
    },
    {
     "data": {
      "image/png": "[encoded data removed]",
      "text/plain": [
       "<Figure size 640x480 with 1 Axes>"
      ]
     },
     "metadata": {},
     "output_type": "display_data"
    },
    {
     "data": {
      "image/png": "[encoded data removed]",
      "text/plain": [
       "<Figure size 640x480 with 1 Axes>"
      ]
     },
     "metadata": {},
     "output_type": "display_data"
    }
   ],
   "source": [
    "for col in num_cols:\n",
    "    sns.histplot(df[col], bins=10, kde=True, color=\"skyblue\")\n",
    "    plt.title(f\"Distribution of {col}\")\n",
    "    plt.xlabel(col)\n",
    "    plt.ylabel(\"Count\")\n",
    "    plt.show()"
   ]
  },
  {
   "cell_type": "code",
   "execution_count": 46,
   "id": "3632b5ce-b9af-431e-970c-7393157e9c39",
   "metadata": {},
   "outputs": [],
   "source": [
    "original_stats = {} "
   ]
  },
  {
   "cell_type": "code",
   "execution_count": 47,
   "id": "1dce2770-09ad-4f02-abb3-f243bd747382",
   "metadata": {},
   "outputs": [
    {
     "name": "stdout",
     "output_type": "stream",
     "text": [
      "0\n",
      "8\n",
      "8\n",
      "9\n",
      "8\n",
      "5\n",
      "4\n"
     ]
    }
   ],
   "source": [
    "for col in num_cols:\n",
    "    Q1=df[col].quantile(0.25)\n",
    "    Q3=df[col].quantile(0.75)\n",
    "    IQR=Q3-Q1\n",
    "\n",
    "    LOWER_BOUND = Q1-1.5*IQR\n",
    "    UPPER_BOUND = Q3+1.5*IQR\n",
    "    outliers = df[(df[col] < LOWER_BOUND) | (df[col]  > UPPER_BOUND)]\n",
    "    print(outliers.shape[0])"
   ]
  },
  {
   "cell_type": "code",
   "execution_count": 48,
   "id": "a70a2e1e-316c-4d9a-9941-15967ca8dca8",
   "metadata": {},
   "outputs": [
    {
     "name": "stdout",
     "output_type": "stream",
     "text": [
      "clipped values in ID\n",
      "clipped values in Age\n",
      "clipped values in Salary\n",
      "clipped values in Experience\n",
      "clipped values in LeaveDays\n",
      "clipped values in PerformanceScore\n",
      "clipped values in Bonus\n"
     ]
    }
   ],
   "source": [
    "for col in num_cols:\n",
    "    mean_val = df[col].mean()\n",
    "    df[col] = df[col].fillna(mean_val)\n",
    "    std_val = df[col].std()\n",
    "    original_stats[col] = (mean_val,std_val)\n",
    "    df[col] = df[col].clip(lower = mean_val - 3 * std_val , upper = mean_val + 3 * std_val)\n",
    "    print(f\"clipped values in {col}\")"
   ]
  },
  {
   "cell_type": "code",
   "execution_count": 49,
   "id": "feff2fd7-8dc2-4d41-8acd-ece3ec82ddf4",
   "metadata": {},
   "outputs": [
    {
     "name": "stdout",
     "output_type": "stream",
     "text": [
      "outliers is 0 in ID\n",
      "outliers is 0 in Age\n",
      "outliers is 0 in Salary\n",
      "outliers is 0 in Experience\n",
      "outliers is 0 in LeaveDays\n",
      "outliers is 0 in PerformanceScore\n",
      "outliers is 0 in Bonus\n"
     ]
    }
   ],
   "source": [
    "for col in num_cols:\n",
    "    mean_val,std_val = original_stats[col]\n",
    "    lower_bound = mean_val - 3*std_val\n",
    "    upper_bound = mean_val + 3*std_val\n",
    "    outliers_remaining = df[(df[col]<lower_bound) | (df[col] > upper_bound)].shape[0]\n",
    "    if outliers_remaining == 0:\n",
    "        print(f\"outliers is {outliers_remaining} in {col}\")\n",
    "    else:\n",
    "        print(\"outliers are there\")"
   ]
  },
  {
   "cell_type": "code",
   "execution_count": 50,
   "id": "6f3749d3-a289-4ec2-80b9-771d7bd8d162",
   "metadata": {},
   "outputs": [
    {
     "data": {
      "text/plain": [
       "0"
      ]
     },
     "execution_count": 50,
     "metadata": {},
     "output_type": "execute_result"
    }
   ],
   "source": [
    "df.duplicated().sum()"
   ]
  },
  {
   "cell_type": "code",
   "execution_count": 51,
   "id": "c4100d3a-5bf0-4d24-ab15-c8460ad474ce",
   "metadata": {},
   "outputs": [],
   "source": [
    "df.to_csv(\"company cleaned dataset.csv\",index=False)"
   ]
  },
  {
   "cell_type": "code",
   "execution_count": null,
   "id": "1a3b228c-4740-4570-b5d1-02e3ac622f5b",
   "metadata": {},
   "outputs": [],
   "source": []
  }
 ],
 "metadata": {
  "kernelspec": {
   "display_name": "Python [conda env:base] *",
   "language": "python",
   "name": "conda-base-py"
  },
  "language_info": {
   "codemirror_mode": {
    "name": "ipython",
    "version": 3
   },
   "file_extension": ".py",
   "mimetype": "text/x-python",
   "name": "python",
   "nbconvert_exporter": "python",
   "pygments_lexer": "ipython3",
   "version": "3.12.7"
  }
 },
 "nbformat": 4,
 "nbformat_minor": 5
}
